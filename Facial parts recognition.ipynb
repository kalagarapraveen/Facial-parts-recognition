{
 "cells": [
  {
   "cell_type": "code",
   "execution_count": 35,
   "metadata": {},
   "outputs": [],
   "source": [
    "from imutils import face_utils\n",
    "import dlib\n",
    "import cv2\n",
    "\n",
    "detector=dlib.get_frontal_face_detector()\n",
    "predictor=dlib.shape_predictor(\"shape_predictor_68_face_landmarks.dat\")\n",
    "alpha=0.75\n",
    "img=cv2.imread(\"CelebA-HQ-img/2.jpg\")\n",
    "img=cv2.resize(img, None, fx=0.50, fy=0.50)\n",
    "overlay=img.copy()\n",
    "gray=cv2.cvtColor(img, cv2.COLOR_BGR2GRAY)\n",
    "\n",
    "#contours, _ = cv2.findContours(gray,cv2.RETR_EXTERNAL,cv2.CHAIN_APPROX_NONE)\n",
    "faces=detector(gray,1)\n",
    "for k,d in enumerate(faces):\n",
    "    shape=predictor(img, d)\n",
    "    shape=face_utils.shape_to_np(shape)\n",
    "    \n",
    "\n",
    "pts=shape[36:42]\n",
    "hu=cv2.convexHull(pts)\n",
    "cv2.drawContours(img,[hu],-10,(0,255,0),15)\n",
    "\n",
    "pts=shape[43:48]\n",
    "hu=cv2.convexHull(pts)\n",
    "cv2.drawContours(img,[hu],-10,(0,255,0),15)\n",
    "\n",
    "pts=shape[49:68]\n",
    "hu=cv2.convexHull(pts)\n",
    "cv2.drawContours(img,[hu],-10,(0,255,0),15)\n",
    "cv2.addWeighted(overlay, alpha, img,  alpha, 0, img)\n",
    "    \n",
    "    \n",
    "\n",
    "cv2.imshow(\"MUSK\", img)\n",
    "cv2.waitKey(0)\n",
    "cv2.destroyAllWindows()\n",
    "#cv2.drawContours(overlay, [hull], -1, colors[i], -1)"
   ]
  },
  {
   "cell_type": "code",
   "execution_count": null,
   "metadata": {},
   "outputs": [],
   "source": []
  },
  {
   "cell_type": "code",
   "execution_count": null,
   "metadata": {},
   "outputs": [],
   "source": []
  }
 ],
 "metadata": {
  "kernelspec": {
   "display_name": "Python 3",
   "language": "python",
   "name": "python3"
  },
  "language_info": {
   "codemirror_mode": {
    "name": "ipython",
    "version": 3
   },
   "file_extension": ".py",
   "mimetype": "text/x-python",
   "name": "python",
   "nbconvert_exporter": "python",
   "pygments_lexer": "ipython3",
   "version": "3.6.10"
  }
 },
 "nbformat": 4,
 "nbformat_minor": 2
}
